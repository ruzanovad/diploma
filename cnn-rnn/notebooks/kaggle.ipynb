{
 "cells": [
  {
   "cell_type": "code",
   "execution_count": null,
   "metadata": {},
   "outputs": [],
   "source": [
    "!git clone https://github.com/ruzanovad/diploma.git"
   ]
  },
  {
   "cell_type": "code",
   "execution_count": null,
   "metadata": {},
   "outputs": [],
   "source": [
    "%ls"
   ]
  },
  {
   "cell_type": "code",
   "execution_count": null,
   "metadata": {},
   "outputs": [],
   "source": [
    "%cd diploma/cnn-rnn"
   ]
  },
  {
   "cell_type": "code",
   "execution_count": null,
   "metadata": {},
   "outputs": [],
   "source": [
    "%pip install evaluate\n",
    "%pip install pytorch-lightning==2.0.8 "
   ]
  },
  {
   "cell_type": "code",
   "execution_count": null,
   "metadata": {},
   "outputs": [],
   "source": [
    "import pandas as pd\n",
    "import torch\n",
    "from torch.utils.checkpoint import checkpoint\n",
    "from torch.utils.data import DataLoader, Dataset\n",
    "from torch import nn, Tensor\n",
    "# import torchdata.datapipes as dp\n",
    "import matplotlib.pyplot as plt\n",
    "from model import Image2Latex, Text\n",
    "from pathlib import Path\n",
    "import torchvision\n",
    "from torch.nn.utils.rnn import pad_sequence, pad_packed_sequence\n",
    "import glob\n",
    "from tqdm.notebook import tqdm\n",
    "import time\n",
    "from nltk.metrics import edit_distance\n",
    "from typing import Tuple\n",
    "import pytorch_lightning as pl"
   ]
  },
  {
   "cell_type": "code",
   "execution_count": null,
   "metadata": {},
   "outputs": [],
   "source": [
    "data_path = Path('/kaggle/input/im2latex100k')\n",
    "img_path = Path('/kaggle/input/im2latex100k/formula_images_processed/formula_images_processed')"
   ]
  },
  {
   "cell_type": "code",
   "execution_count": null,
   "metadata": {},
   "outputs": [
    {
     "data": {
      "text/html": [
       "\n",
       "      <iframe id=\"tensorboard-frame-e500e1c7ae8d8eae\" width=\"100%\" height=\"800\" frameborder=\"0\">\n",
       "      </iframe>\n",
       "      <script>\n",
       "        (function() {\n",
       "          const frame = document.getElementById(\"tensorboard-frame-e500e1c7ae8d8eae\");\n",
       "          const url = new URL(\"/\", window.location);\n",
       "          const port = 6006;\n",
       "          if (port) {\n",
       "            url.port = port;\n",
       "          }\n",
       "          frame.src = url;\n",
       "        })();\n",
       "      </script>\n",
       "    "
      ],
      "text/plain": [
       "<IPython.core.display.HTML object>"
      ]
     },
     "metadata": {},
     "output_type": "display_data"
    }
   ],
   "source": [
    "# %load_ext tensorboard\n",
    "# %tensorboard --logdir ../tb_logs/\n",
    "# %tensorboard --logdir tb_logs/ --bind_all\n",
    "# %tensorboard --logdir=your_log_dir --bind_all"
   ]
  },
  {
   "cell_type": "code",
   "execution_count": null,
   "metadata": {},
   "outputs": [],
   "source": [
    "%run main.py --batch-size 256 --accumulate-batch 512 --train --log-step 1 \\\n",
    "--num-workers 2 \\\n",
    "--max-epochs 40 --lr 0.01 --model-name conv_bilstm_lstm_train --enc-type resnet_encoder \\\n",
    "--enc-dim 256 --dec-dim 512 --emb-dim 80 --attn-dim 512 --dropout 0.1 \\\n",
    "--decode-type beamsearch --beam-width 5 --grad-clip 0 --dataset 100k \\\n",
    "--img-path /kaggle/input/im2latex100k/formula_images_processed/formula_images_processed \\\n",
    "--data-path /kaggle/input/im2latex100k \\\n",
    "--vocab_file data/vocab/latex_tokens.json \\\n",
    "--predict-img-path /kaggle/input/im2latex100k/formula_images_processed/formula_images_processed/100009e256.png \\\n",
    "--notebook --gpu"
   ]
  },
  {
   "cell_type": "code",
   "execution_count": null,
   "metadata": {},
   "outputs": [],
   "source": [
    "!nvidia-smi"
   ]
  },
  {
   "cell_type": "code",
   "execution_count": null,
   "metadata": {},
   "outputs": [],
   "source": [
    "# torch.cuda.empty_cache()"
   ]
  },
  {
   "cell_type": "code",
   "execution_count": null,
   "metadata": {},
   "outputs": [],
   "source": [
    "%run main.py --batch-size 4 --accumulate-batch 8 --train --log-step 1 \\\n",
    "--train-sample 5 --test-sample 0 --val-sample 0 --num-workers 2 \\\n",
    "--max-epochs 40 --lr 0.01 --model-name conv_bilstm_lstm_predict --enc-type resnet_encoder \\\n",
    "--enc-dim 256 --dec-dim 512 --emb-dim 80 --attn-dim 512 --dropout 0.1 \\\n",
    "--decode-type beamsearch --beam-width 5 --grad-clip 0 --dataset 100k \\\n",
    "--img-path data/im2latex100k/formula_images_processed/formula_images_processed \\\n",
    "--data-path data/im2latex100k --vocab_file data/vocab/latex_tokens.json \\\n",
    "--predict-img-path data/im2latex100k/formula_images_processed/formula_images_processed/100009e256.png \\\n",
    "--ckpt-path tb_logs/kaggle_20epoch/checkpoints/model-19-1.10.ckpt --num-layers 2\n",
    "\n",
    "--notebook"
   ]
  },
  {
   "cell_type": "code",
   "execution_count": null,
   "metadata": {},
   "outputs": [],
   "source": [
    "#!/bin/bash\n",
    "python main.py --batch-size 128 --accumulate-batch 256 --train --log-step 64 --log-text \\\n",
    "--num-workers 16 --train-sample 75000 --max-time 00:06:00:00 --val-sample 8000 \\\n",
    "--max-epochs 20 --lr 0.01 --model-name resnet_bilstm_lstm_train --enc-type resnet_row_encoder \\\n",
    "--enc-dim 512 --dec-dim 512 --emb-dim 80 --attn-dim 512 --dropout 0.4 \\\n",
    "--decode-type beamsearch --beam-width 5 --grad-clip 1.0 --dataset 100k \\\n",
    "--img-path data/im2latex100k/formula_images_processed/formula_images_processed \\\n",
    "--data-path data/im2latex100k \\\n",
    "--vocab_file data/vocab/latex_tokens.json \\\n",
    "--predict-img-path data/im2latex100k/formula_images_processed/formula_images_processed/100009e256.png \\\n",
    "--gpu --ckpt-path checkpoints/model-15-0.64.ckpt  "
   ]
  }
 ],
 "metadata": {
  "kernelspec": {
   "display_name": "base",
   "language": "python",
   "name": "python3"
  },
  "language_info": {
   "codemirror_mode": {
    "name": "ipython",
    "version": 3
   },
   "file_extension": ".py",
   "mimetype": "text/x-python",
   "name": "python",
   "nbconvert_exporter": "python",
   "pygments_lexer": "ipython3",
   "version": "3.12.2"
  }
 },
 "nbformat": 4,
 "nbformat_minor": 2
}
