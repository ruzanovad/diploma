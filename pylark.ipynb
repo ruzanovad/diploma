{
 "cells": [
  {
   "cell_type": "code",
   "execution_count": 1,
   "metadata": {},
   "outputs": [],
   "source": [
    "from lark import Lark"
   ]
  },
  {
   "cell_type": "code",
   "execution_count": 27,
   "metadata": {},
   "outputs": [],
   "source": [
    "grammar = r\"\"\"\n",
    "?start: expr\n",
    "\n",
    "?expr: sum\n",
    "\n",
    "?sum: product\n",
    "    | sum \"+\" product   -> add\n",
    "    | sum \"-\" product   -> sub\n",
    "\n",
    "?product: power\n",
    "        | product \"\\\\cdot\" power            -> mul\n",
    "        | product \"/\" power            -> div\n",
    "        | product BINOP_FUNC power     -> binfunc_op   // например: a \\min b\n",
    "\n",
    "?power: postfix\n",
    "      | postfix \"^\" power              -> pow\n",
    "\n",
    "?postfix: primary\n",
    "        | postfix \"_\" primary          -> subscript\n",
    "\n",
    "?primary: NUMBER                         -> number\n",
    "        | GREEK                          -> greek\n",
    "        | LATIN                          -> latin\n",
    "        | FRAC frac_expr                 -> frac       // дробь \\frac{числитель}{знаменатель}\n",
    "        | (BINOP_FUNC | FUNCTION) group  -> function_call  // вызов функции, например, \"\\min{...}\" или \"\\sin{...}\"\n",
    "        | \"(\" expr \")\"                   -> parens\n",
    "        | \"[\" expr \"]\"                   -> brackets\n",
    "        | \"{\" expr \"}\"                   -> braces\n",
    "        | INTEGRAL integral_limits? expr? -> integral_expr\n",
    "        | LIMIT limit_limits? expr       -> limit_expr\n",
    "\n",
    "?group: \"{\" expr \"}\" | expr\n",
    "\n",
    "frac_expr: \"{\" expr \"}\" \"{\" expr \"}\"\n",
    "\n",
    "integral_limits: (\"_\" group)? (\"^\" group)?\n",
    "limit_limits: (\"_\" group)?\n",
    "\n",
    "// Терминалы для специальных операторов (используются как бинарные операторы, если между двумя выражениями)\n",
    "BINOP_FUNC: /\\\\(min|max|opt)/\n",
    "\n",
    "// Терминалы для функций (если требуется вызов с группой)\n",
    "FUNCTION: /\\\\(sin|cos|tan|log|ln|exp)/\n",
    "FRAC: /\\\\frac/\n",
    "NUMBER: /\\d+(\\.\\d+)?/\n",
    "GREEK: /\\\\(alpha|beta|gamma|delta|epsilon|zeta|eta|theta|iota|kappa|lambda|mu|nu|xi|omicron|pi|rho|sigma|tau|upsilon|phi|chi|psi|omega)/\n",
    "LATIN: /[a-zA-Z]+/\n",
    "\n",
    "INTEGRAL: /\\\\int/\n",
    "LIMIT: /\\\\lim/\n",
    "\n",
    "%import common.WS\n",
    "%ignore WS\n",
    "\"\"\"\n"
   ]
  },
  {
   "cell_type": "code",
   "execution_count": 28,
   "metadata": {},
   "outputs": [
    {
     "name": "stdout",
     "output_type": "stream",
     "text": [
      "add\n",
      "  add\n",
      "    add\n",
      "      add\n",
      "        latin\ta\n",
      "        pow\n",
      "          latin\tb\n",
      "          greek\t\\alpha\n",
      "      integral_expr\n",
      "        \\int\n",
      "        integral_limits\n",
      "          latin\ta\n",
      "          latin\tb\n",
      "        latin\tx\n",
      "    function_call\n",
      "      \\ln\n",
      "      add\n",
      "        parens\n",
      "          add\n",
      "            latin\tb\n",
      "            latin\te\n",
      "        mul\n",
      "          latin\tn\n",
      "          latin\tu\n",
      "  frac\n",
      "    \\frac\n",
      "    frac_expr\n",
      "      latin\ta\n",
      "      latin\tb\n",
      "\n"
     ]
    }
   ],
   "source": [
    "parser = Lark(grammar, debug=True)\n",
    "tree = parser.parse(r\"a+b^\\alpha + \\int_a^b x + \\ln (b+e) + n \\cdot u + \\frac {a}{b}\")\n",
    "print(tree.pretty())"
   ]
  },
  {
   "cell_type": "code",
   "execution_count": null,
   "metadata": {},
   "outputs": [],
   "source": []
  }
 ],
 "metadata": {
  "kernelspec": {
   "display_name": "base",
   "language": "python",
   "name": "python3"
  },
  "language_info": {
   "codemirror_mode": {
    "name": "ipython",
    "version": 3
   },
   "file_extension": ".py",
   "mimetype": "text/x-python",
   "name": "python",
   "nbconvert_exporter": "python",
   "pygments_lexer": "ipython3",
   "version": "3.12.2"
  }
 },
 "nbformat": 4,
 "nbformat_minor": 2
}
