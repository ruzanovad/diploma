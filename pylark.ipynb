{
 "cells": [
  {
   "cell_type": "code",
   "execution_count": 88,
   "metadata": {},
   "outputs": [],
   "source": [
    "from lark import Lark"
   ]
  },
  {
   "cell_type": "code",
   "execution_count": 100,
   "metadata": {},
   "outputs": [],
   "source": [
    "grammar = r\"\"\"\n",
    "start : expr\n",
    "atom_expr : var | number\n",
    "number : NUMBER\n",
    "?expr : atom_expr\n",
    "     | op_expr\n",
    "     | paren_expr\n",
    "     | brace_expr\n",
    "     | brack_expr\n",
    "op_expr : \n",
    "     | expr binary_op expr\n",
    "     | left_unary_op expr\n",
    "     | expr right_unary_op\n",
    "left_unary_op: \"-\" | \"\\\\neg\" | \"\\\\#\"\n",
    "right_unary_op: \"+\" | \"\\\\#\" | \"!\"\n",
    "paren_expr: \"(\" expr \")\"\n",
    "brace_expr: \"{\" expr \"}\"\n",
    "brack_expr: \"[\" expr \"]\"\n",
    "binary_op : \"+\" | \"-\" | \"*\" | \"\\cdot\"\n",
    "div_expr : frac brace_expr brace_expr\n",
    "         | (paren_expr | atom_expr) \"/\" (paren_expr | atom_expr) \n",
    "frac: \"\\\\frac\" | \"\\\\dfrac\"\n",
    "var : var_atom [ script ]\n",
    "var_atom : LATIN | ALPHA | BETA | GAMMA | DELTA | EPSILON | ZETA | ETA \n",
    "         | THETA | VARTHETA | IOTA | KAPPA | LAMBDA | MU | NU | XI | PI\n",
    "         | RHO | VARRHO | SIGMA | TAU | UPSILON | PHI | VARPHI | CHI \n",
    "         | PSI | OMEGA\n",
    "LATIN : /[a-z]/i\n",
    "ALPHA : /\\\\alpha/i\n",
    "BETA : /\\\\beta/i\n",
    "GAMMA : /\\\\gamma/i\n",
    "DELTA : /\\\\delta/i\n",
    "EPSILON : /\\\\epsilon/i\n",
    "ZETA : /\\\\zeta/i\n",
    "ETA : /\\\\eta/i\n",
    "THETA : /\\\\theta/i\n",
    "VARTHETA : /\\\\vartheta/i\n",
    "IOTA : /\\\\iota/i\n",
    "KAPPA : /\\\\kappa/i\n",
    "LAMBDA : /\\\\lambda/i\n",
    "MU : /\\\\mu/i\n",
    "NU : /\\\\nu/i\n",
    "XI : /\\\\xi/i\n",
    "PI : /\\\\pi/i\n",
    "RHO : /\\\\rho/i\n",
    "VARRHO : /\\\\varrho/i\n",
    "SIGMA : /\\\\sigma/i\n",
    "TAU : /\\\\tau/i\n",
    "UPSILON : /\\\\upsilon/i\n",
    "PHI : /\\\\phi/i\n",
    "VARPHI : /\\\\varphi/i\n",
    "CHI : /\\\\chi/i\n",
    "PSI : /\\\\psi/i\n",
    "OMEGA : /\\\\omega/i\n",
    "?atom : var_atom    -> var\n",
    "      | ANY\n",
    "script : subscript [supscript]\n",
    "       | supscript [subscript]\n",
    "subscript : \"_\" (brace_expr | atom)\n",
    "supscript : \"^\" (brace_expr | atom)\n",
    "ANY : /./\n",
    "ANY_STR : /./+\n",
    "%import common.NUMBER\n",
    "%import common.WS\n",
    "%ignore WS\n",
    "\"\"\""
   ]
  },
  {
   "cell_type": "code",
   "execution_count": 102,
   "metadata": {},
   "outputs": [
    {
     "ename": "UnexpectedCharacters",
     "evalue": "No terminal matches '\\' in the current parser context, at line 1 col 1\n\n\\frac {a} {b}\n^\nExpected one of: \n\t* EPSILON\n\t* ZETA\n\t* SIGMA\n\t* PI\n\t* VARPHI\n\t* STAR\n\t* GAMMA\n\t* DELTA\n\t* BETA\n\t* TAU\n\t* THETA\n\t* CHI\n\t* LBRACE\n\t* IOTA\n\t* XI\n\t* VARRHO\n\t* PSI\n\t* LPAR\n\t* BANG\n\t* MINUS\n\t* UPSILON\n\t* VARTHETA\n\t* ALPHA\n\t* PLUS\n\t* LAMBDA\n\t* ETA\n\t* OMEGA\n\t* MU\n\t* KAPPA\n\t* __ANON_0\n\t* LSQB\n\t* NU\n\t* PHI\n\t* RHO\n\t* __ANON_1\n\t* LATIN\n\t* __ANON_2\n\t* NUMBER\n",
     "output_type": "error",
     "traceback": [
      "\u001b[0;31m---------------------------------------------------------------------------\u001b[0m",
      "\u001b[0;31mUnexpectedCharacters\u001b[0m                      Traceback (most recent call last)",
      "Cell \u001b[0;32mIn[102], line 2\u001b[0m\n\u001b[1;32m      1\u001b[0m parser \u001b[38;5;241m=\u001b[39m Lark(grammar, debug\u001b[38;5;241m=\u001b[39m\u001b[38;5;28;01mTrue\u001b[39;00m)\n\u001b[0;32m----> 2\u001b[0m tree \u001b[38;5;241m=\u001b[39m parser\u001b[38;5;241m.\u001b[39mparse(\u001b[38;5;124mr\u001b[39m\u001b[38;5;124m\"\u001b[39m\u001b[38;5;124m\\\u001b[39m\u001b[38;5;124mfrac \u001b[39m\u001b[38;5;132;01m{a}\u001b[39;00m\u001b[38;5;124m \u001b[39m\u001b[38;5;132;01m{b}\u001b[39;00m\u001b[38;5;124m\"\u001b[39m)\n\u001b[1;32m      3\u001b[0m \u001b[38;5;28mprint\u001b[39m(tree\u001b[38;5;241m.\u001b[39mpretty())\n",
      "File \u001b[0;32m~/anaconda3/lib/python3.12/site-packages/lark/lark.py:655\u001b[0m, in \u001b[0;36mLark.parse\u001b[0;34m(self, text, start, on_error)\u001b[0m\n\u001b[1;32m    637\u001b[0m \u001b[38;5;28;01mdef\u001b[39;00m \u001b[38;5;21mparse\u001b[39m(\u001b[38;5;28mself\u001b[39m, text: \u001b[38;5;28mstr\u001b[39m, start: Optional[\u001b[38;5;28mstr\u001b[39m]\u001b[38;5;241m=\u001b[39m\u001b[38;5;28;01mNone\u001b[39;00m, on_error: \u001b[38;5;124m'\u001b[39m\u001b[38;5;124mOptional[Callable[[UnexpectedInput], bool]]\u001b[39m\u001b[38;5;124m'\u001b[39m\u001b[38;5;241m=\u001b[39m\u001b[38;5;28;01mNone\u001b[39;00m) \u001b[38;5;241m-\u001b[39m\u001b[38;5;241m>\u001b[39m \u001b[38;5;124m'\u001b[39m\u001b[38;5;124mParseTree\u001b[39m\u001b[38;5;124m'\u001b[39m:\n\u001b[1;32m    638\u001b[0m \u001b[38;5;250m    \u001b[39m\u001b[38;5;124;03m\"\"\"Parse the given text, according to the options provided.\u001b[39;00m\n\u001b[1;32m    639\u001b[0m \n\u001b[1;32m    640\u001b[0m \u001b[38;5;124;03m    Parameters:\u001b[39;00m\n\u001b[0;32m   (...)\u001b[0m\n\u001b[1;32m    653\u001b[0m \n\u001b[1;32m    654\u001b[0m \u001b[38;5;124;03m    \"\"\"\u001b[39;00m\n\u001b[0;32m--> 655\u001b[0m     \u001b[38;5;28;01mreturn\u001b[39;00m \u001b[38;5;28mself\u001b[39m\u001b[38;5;241m.\u001b[39mparser\u001b[38;5;241m.\u001b[39mparse(text, start\u001b[38;5;241m=\u001b[39mstart, on_error\u001b[38;5;241m=\u001b[39mon_error)\n",
      "File \u001b[0;32m~/anaconda3/lib/python3.12/site-packages/lark/parser_frontends.py:104\u001b[0m, in \u001b[0;36mParsingFrontend.parse\u001b[0;34m(self, text, start, on_error)\u001b[0m\n\u001b[1;32m    102\u001b[0m kw \u001b[38;5;241m=\u001b[39m {} \u001b[38;5;28;01mif\u001b[39;00m on_error \u001b[38;5;129;01mis\u001b[39;00m \u001b[38;5;28;01mNone\u001b[39;00m \u001b[38;5;28;01melse\u001b[39;00m {\u001b[38;5;124m'\u001b[39m\u001b[38;5;124mon_error\u001b[39m\u001b[38;5;124m'\u001b[39m: on_error}\n\u001b[1;32m    103\u001b[0m stream \u001b[38;5;241m=\u001b[39m \u001b[38;5;28mself\u001b[39m\u001b[38;5;241m.\u001b[39m_make_lexer_thread(text)\n\u001b[0;32m--> 104\u001b[0m \u001b[38;5;28;01mreturn\u001b[39;00m \u001b[38;5;28mself\u001b[39m\u001b[38;5;241m.\u001b[39mparser\u001b[38;5;241m.\u001b[39mparse(stream, chosen_start, \u001b[38;5;241m*\u001b[39m\u001b[38;5;241m*\u001b[39mkw)\n",
      "File \u001b[0;32m~/anaconda3/lib/python3.12/site-packages/lark/parsers/earley.py:280\u001b[0m, in \u001b[0;36mParser.parse\u001b[0;34m(self, lexer, start)\u001b[0m\n\u001b[1;32m    277\u001b[0m     \u001b[38;5;28;01melse\u001b[39;00m:\n\u001b[1;32m    278\u001b[0m         columns[\u001b[38;5;241m0\u001b[39m]\u001b[38;5;241m.\u001b[39madd(item)\n\u001b[0;32m--> 280\u001b[0m to_scan \u001b[38;5;241m=\u001b[39m \u001b[38;5;28mself\u001b[39m\u001b[38;5;241m.\u001b[39m_parse(lexer, columns, to_scan, start_symbol)\n\u001b[1;32m    282\u001b[0m \u001b[38;5;66;03m# If the parse was successful, the start\u001b[39;00m\n\u001b[1;32m    283\u001b[0m \u001b[38;5;66;03m# symbol should have been completed in the last step of the Earley cycle, and will be in\u001b[39;00m\n\u001b[1;32m    284\u001b[0m \u001b[38;5;66;03m# this column. Find the item for the start_symbol, which is the root of the SPPF tree.\u001b[39;00m\n\u001b[1;32m    285\u001b[0m solutions \u001b[38;5;241m=\u001b[39m dedup_list(n\u001b[38;5;241m.\u001b[39mnode \u001b[38;5;28;01mfor\u001b[39;00m n \u001b[38;5;129;01min\u001b[39;00m columns[\u001b[38;5;241m-\u001b[39m\u001b[38;5;241m1\u001b[39m] \u001b[38;5;28;01mif\u001b[39;00m n\u001b[38;5;241m.\u001b[39mis_complete \u001b[38;5;129;01mand\u001b[39;00m n\u001b[38;5;241m.\u001b[39mnode \u001b[38;5;129;01mis\u001b[39;00m \u001b[38;5;129;01mnot\u001b[39;00m \u001b[38;5;28;01mNone\u001b[39;00m \u001b[38;5;129;01mand\u001b[39;00m n\u001b[38;5;241m.\u001b[39ms \u001b[38;5;241m==\u001b[39m start_symbol \u001b[38;5;129;01mand\u001b[39;00m n\u001b[38;5;241m.\u001b[39mstart \u001b[38;5;241m==\u001b[39m \u001b[38;5;241m0\u001b[39m)\n",
      "File \u001b[0;32m~/anaconda3/lib/python3.12/site-packages/lark/parsers/xearley.py:152\u001b[0m, in \u001b[0;36mParser._parse\u001b[0;34m(self, stream, columns, to_scan, start_symbol)\u001b[0m\n\u001b[1;32m    149\u001b[0m \u001b[38;5;28;01mfor\u001b[39;00m token \u001b[38;5;129;01min\u001b[39;00m stream:\n\u001b[1;32m    150\u001b[0m     \u001b[38;5;28mself\u001b[39m\u001b[38;5;241m.\u001b[39mpredict_and_complete(i, to_scan, columns, transitives)\n\u001b[0;32m--> 152\u001b[0m     to_scan \u001b[38;5;241m=\u001b[39m scan(i, to_scan)\n\u001b[1;32m    154\u001b[0m     \u001b[38;5;28;01mif\u001b[39;00m token \u001b[38;5;241m==\u001b[39m \u001b[38;5;124m'\u001b[39m\u001b[38;5;130;01m\\n\u001b[39;00m\u001b[38;5;124m'\u001b[39m:\n\u001b[1;32m    155\u001b[0m         text_line \u001b[38;5;241m+\u001b[39m\u001b[38;5;241m=\u001b[39m \u001b[38;5;241m1\u001b[39m\n",
      "File \u001b[0;32m~/anaconda3/lib/python3.12/site-packages/lark/parsers/xearley.py:125\u001b[0m, in \u001b[0;36mParser._parse.<locals>.scan\u001b[0;34m(i, to_scan)\u001b[0m\n\u001b[1;32m    123\u001b[0m \u001b[38;5;28;01mif\u001b[39;00m \u001b[38;5;129;01mnot\u001b[39;00m next_set \u001b[38;5;129;01mand\u001b[39;00m \u001b[38;5;129;01mnot\u001b[39;00m delayed_matches \u001b[38;5;129;01mand\u001b[39;00m \u001b[38;5;129;01mnot\u001b[39;00m next_to_scan:\n\u001b[1;32m    124\u001b[0m     considered_rules \u001b[38;5;241m=\u001b[39m \u001b[38;5;28mlist\u001b[39m(\u001b[38;5;28msorted\u001b[39m(to_scan, key\u001b[38;5;241m=\u001b[39m\u001b[38;5;28;01mlambda\u001b[39;00m key: key\u001b[38;5;241m.\u001b[39mrule\u001b[38;5;241m.\u001b[39morigin\u001b[38;5;241m.\u001b[39mname))\n\u001b[0;32m--> 125\u001b[0m     \u001b[38;5;28;01mraise\u001b[39;00m UnexpectedCharacters(stream, i, text_line, text_column, {item\u001b[38;5;241m.\u001b[39mexpect\u001b[38;5;241m.\u001b[39mname \u001b[38;5;28;01mfor\u001b[39;00m item \u001b[38;5;129;01min\u001b[39;00m to_scan},\n\u001b[1;32m    126\u001b[0m                                \u001b[38;5;28mset\u001b[39m(to_scan), state\u001b[38;5;241m=\u001b[39m\u001b[38;5;28mfrozenset\u001b[39m(i\u001b[38;5;241m.\u001b[39ms \u001b[38;5;28;01mfor\u001b[39;00m i \u001b[38;5;129;01min\u001b[39;00m to_scan),\n\u001b[1;32m    127\u001b[0m                                considered_rules\u001b[38;5;241m=\u001b[39mconsidered_rules\n\u001b[1;32m    128\u001b[0m                                )\n\u001b[1;32m    130\u001b[0m \u001b[38;5;28;01mreturn\u001b[39;00m next_to_scan\n",
      "\u001b[0;31mUnexpectedCharacters\u001b[0m: No terminal matches '\\' in the current parser context, at line 1 col 1\n\n\\frac {a} {b}\n^\nExpected one of: \n\t* EPSILON\n\t* ZETA\n\t* SIGMA\n\t* PI\n\t* VARPHI\n\t* STAR\n\t* GAMMA\n\t* DELTA\n\t* BETA\n\t* TAU\n\t* THETA\n\t* CHI\n\t* LBRACE\n\t* IOTA\n\t* XI\n\t* VARRHO\n\t* PSI\n\t* LPAR\n\t* BANG\n\t* MINUS\n\t* UPSILON\n\t* VARTHETA\n\t* ALPHA\n\t* PLUS\n\t* LAMBDA\n\t* ETA\n\t* OMEGA\n\t* MU\n\t* KAPPA\n\t* __ANON_0\n\t* LSQB\n\t* NU\n\t* PHI\n\t* RHO\n\t* __ANON_1\n\t* LATIN\n\t* __ANON_2\n\t* NUMBER\n"
     ]
    }
   ],
   "source": [
    "parser = Lark(grammar, debug=True)\n",
    "tree = parser.parse(r\"\\frac {a} {b}\")\n",
    "print(tree.pretty())"
   ]
  },
  {
   "cell_type": "code",
   "execution_count": null,
   "metadata": {},
   "outputs": [],
   "source": []
  }
 ],
 "metadata": {
  "kernelspec": {
   "display_name": "base",
   "language": "python",
   "name": "python3"
  },
  "language_info": {
   "codemirror_mode": {
    "name": "ipython",
    "version": 3
   },
   "file_extension": ".py",
   "mimetype": "text/x-python",
   "name": "python",
   "nbconvert_exporter": "python",
   "pygments_lexer": "ipython3",
   "version": "3.12.2"
  }
 },
 "nbformat": 4,
 "nbformat_minor": 2
}
