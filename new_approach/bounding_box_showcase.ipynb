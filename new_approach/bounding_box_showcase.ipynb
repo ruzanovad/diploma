{
 "cells": [
  {
   "cell_type": "code",
   "execution_count": 2,
   "metadata": {},
   "outputs": [],
   "source": [
    "import cv2\n",
    "import torch\n",
    "import numpy as np\n",
    "import torchvision.transforms as T\n",
    "from torchvision.utils import draw_bounding_boxes\n",
    "from PIL import Image\n",
    "import matplotlib.pyplot as plt\n",
    "\n",
    "# Load an image using PIL\n",
    "image = Image.open(\"dataset/0_number.png\").convert(\"RGB\") \n",
    "\n",
    "\n",
    "image_tensor = T.ToTensor()(image) * 255\n",
    "\n",
    "# Загрузим изображение и шаблон\n",
    "image = cv2.imread('dataset/0_number.png', 0)\n",
    "template = cv2.imread('number_patterns/5/0.png', 0)\n",
    "\n",
    "# Размер шаблона\n",
    "\n",
    "w, h = template.shape[::-1]"
   ]
  },
  {
   "cell_type": "code",
   "execution_count": 3,
   "metadata": {},
   "outputs": [
    {
     "name": "stdout",
     "output_type": "stream",
     "text": [
      "(62, 0)\n",
      "(79, 29)\n"
     ]
    }
   ],
   "source": [
    "# Выполним сопоставление\n",
    "res = cv2.matchTemplate(image, template, cv2.TM_CCOEFF_NORMED)\n",
    "\n",
    "# Установим порог обнаружения\n",
    "threshold = 0.8\n",
    "loc = np.where(res >= threshold)\n",
    "\n",
    "# Обведём найденные участки\n",
    "for pt in zip(*loc[::-1]):\n",
    "    print(pt)\n",
    "    print((pt[0] + w, pt[1] + h))"
   ]
  },
  {
   "cell_type": "code",
   "execution_count": 4,
   "metadata": {},
   "outputs": [
    {
     "data": {
      "image/png": "[encoded data removed]",
      "text/plain": [
       "<Figure size 640x480 with 1 Axes>"
      ]
     },
     "metadata": {},
     "output_type": "display_data"
    }
   ],
   "source": [
    "bbox = torch.tensor(\n",
    "    [[pt[0], pt[1], pt[0] + w, pt[1] + h]]\n",
    ")  # Example rectangle coordinates\n",
    "\n",
    "# Define color and label\n",
    "colors = [\"red\"]\n",
    "# labels = [\"Detected Object\"]\n",
    "\n",
    "# Draw bounding box on the image\n",
    "image_with_bbox = draw_bounding_boxes(\n",
    "    image_tensor.byte(), \n",
    "    bbox, \n",
    "    # labels=labels, \n",
    "    colors=colors, \n",
    "    width=3\n",
    ")\n",
    "\n",
    "# Convert to PIL image for visualization\n",
    "image_with_bbox_pil = T.ToPILImage()(image_with_bbox)\n",
    "\n",
    "# Show the image\n",
    "plt.imshow(image_with_bbox_pil)\n",
    "plt.axis(\"off\")\n",
    "plt.show()"
   ]
  }
 ],
 "metadata": {
  "kernelspec": {
   "display_name": "base",
   "language": "python",
   "name": "python3"
  },
  "language_info": {
   "codemirror_mode": {
    "name": "ipython",
    "version": 3
   },
   "file_extension": ".py",
   "mimetype": "text/x-python",
   "name": "python",
   "nbconvert_exporter": "python",
   "pygments_lexer": "ipython3",
   "version": "3.12.2"
  }
 },
 "nbformat": 4,
 "nbformat_minor": 2
}
